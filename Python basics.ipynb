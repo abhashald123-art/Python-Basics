{
 "cells": [
  {
   "cell_type": "markdown",
   "id": "366b6354-6fb2-46e1-b46f-364b4cf8c345",
   "metadata": {},
   "source": [
    "THEORETICAL QUESTION"
   ]
  },
  {
   "cell_type": "code",
   "execution_count": null,
   "id": "baff5202-c34c-490c-9b79-d99d56e68c6a",
   "metadata": {},
   "outputs": [],
   "source": [
    "# 1 Question>> What is Python, and why is it popular?\n",
    "# Answer - Python is a programming language. It is used to give instructions to a computer to do  tasks.\n",
    "# It is popular because it is simple & easy, powerful libraries available, large community support."
   ]
  },
  {
   "cell_type": "code",
   "execution_count": null,
   "id": "a5d92324-8256-484e-bd35-89cf651abbef",
   "metadata": {},
   "outputs": [],
   "source": [
    "# 2 Question>> What is an interpreter in Python?\n",
    "# Answer - In Python, an interpreter is a program that executes code line by line.\n",
    "# It translates each line into machine language so the computer can understand and run it. "
   ]
  },
  {
   "cell_type": "code",
   "execution_count": null,
   "id": "0bd0c878-921c-4ac8-922a-4b01841c00cc",
   "metadata": {},
   "outputs": [],
   "source": [
    "# 3 Question>> What are pre-defined keywords in Python?\n",
    "# Answer - Pre-defined keywords in Python are reserved words that have special meaning and usage."
   ]
  },
  {
   "cell_type": "code",
   "execution_count": null,
   "id": "b385aa9e-dc0b-4951-a3dc-81c8f672e2c7",
   "metadata": {},
   "outputs": [],
   "source": [
    "# 4 Question>> Can keywords be used as variable names?\n",
    "# Answer - NO, keywords cannot be used as variable names in Python. "
   ]
  },
  {
   "cell_type": "code",
   "execution_count": null,
   "id": "79aeab70-cb5a-4ca9-a924-06e6d3c63743",
   "metadata": {},
   "outputs": [],
   "source": [
    "# 5 Question>> What is mutability in Python?\n",
    "# Answer - Mutability refers to whether or not an object's value can be changed after it is created.\n",
    "# Mutable objects can be changed, while immutable objects cannot be changed."
   ]
  },
  {
   "cell_type": "code",
   "execution_count": null,
   "id": "e59285a7-e436-4a40-830e-6b5e2a3398fb",
   "metadata": {},
   "outputs": [],
   "source": [
    "# 6 Question>> Why are lists mutable, but tuples are immutable?\n",
    "# Answer - Lists are mutable because their contents can be changed after creation.\n",
    "# Tuples are immutable because once created their values cannot be modified. "
   ]
  },
  {
   "cell_type": "code",
   "execution_count": null,
   "id": "17811705-4edc-4910-ae07-d5a987eedd4a",
   "metadata": {},
   "outputs": [],
   "source": [
    "# 7 Question>> What is the difference between “==” and “is” operators in Python?\n",
    "# Answer - The \"==\" operator checks if the values of two variables are equal.\n",
    "# The \"is\" operator checks whether two variables refer to the same memory location."
   ]
  },
  {
   "cell_type": "code",
   "execution_count": null,
   "id": "1d4f6445-b02f-4861-96ec-3bfa6a56d0a9",
   "metadata": {},
   "outputs": [],
   "source": [
    "# 8 Question>> What are logical operators in Python?\n",
    "# Answer - Logical operators in Python are used to combine conditional statements.\n",
    "# They include : and, or, not."
   ]
  },
  {
   "cell_type": "code",
   "execution_count": null,
   "id": "420ac3b1-c06d-402d-842e-797f52d8ccb7",
   "metadata": {},
   "outputs": [],
   "source": [
    "# 9 Question>> What is type casting in Python?\n",
    "# Answer - Type casting in Python means converting one data type into another.\n",
    "# For example, converting a string to an integer using int(\"10\")"
   ]
  },
  {
   "cell_type": "code",
   "execution_count": null,
   "id": "b9261416-e15c-40ff-a509-ce5933f49a79",
   "metadata": {},
   "outputs": [],
   "source": [
    "# 10 Question>> What is the difference between implicit and explicit type casting?\n",
    "# Answer - Implicit type casting is done automatically by Python (e.g., int to float)\n",
    "# Explicit type casting is done manually by the programmer using functions like int(), float(), str(), etc."
   ]
  },
  {
   "cell_type": "code",
   "execution_count": null,
   "id": "0e4b40ff-4c66-4e86-8ccb-34a33602346a",
   "metadata": {},
   "outputs": [],
   "source": [
    "# 11 Question>> What is the purpose of conditional statements in Python?\n",
    "# Answer - Conditional statements are used to execute different blocks of code based on certain conditions.\n",
    "# Example if, else, elif."
   ]
  },
  {
   "cell_type": "code",
   "execution_count": null,
   "id": "465bb19e-2f49-488e-8254-0f3aa636a5b5",
   "metadata": {},
   "outputs": [],
   "source": [
    "# 12 Question>> How does the elif statement work?\n",
    "# Answer - The elif statement alows checking multiple conditions one by one.\n",
    "# It stands for \"else if\" and comes after an if statement and before an else."
   ]
  },
  {
   "cell_type": "code",
   "execution_count": null,
   "id": "c5033b5f-0b1c-4165-86a4-794e626686c4",
   "metadata": {},
   "outputs": [],
   "source": [
    "# 13 Question>> What is the difference between for and while loops?\n",
    "# Answer - A for loop is used when te number of iterations is known \n",
    "# (e.g., iterating over a list)\n",
    "# A while loop is used when the number of iterations is not fixed and depends on a condition."
   ]
  },
  {
   "cell_type": "code",
   "execution_count": null,
   "id": "a143b570-5100-45d6-b6de-1410f6431f0b",
   "metadata": {},
   "outputs": [],
   "source": [
    "# 14 Question>> Describe a scenario where a while loop is more suitable than a for loop.\n",
    "# Answer - A while loop is more suitable when we don't know how many times the loop should run."
   ]
  },
  {
   "cell_type": "markdown",
   "id": "8b5bb033-b59c-4d90-8d41-549098fee644",
   "metadata": {},
   "source": [
    "PRACTICAL QUESTIONS"
   ]
  },
  {
   "cell_type": "code",
   "execution_count": 5,
   "id": "c7acbdba-554a-488b-9e7a-798cadd4d8ca",
   "metadata": {},
   "outputs": [
    {
     "name": "stdout",
     "output_type": "stream",
     "text": [
      "Hello, World!\n"
     ]
    }
   ],
   "source": [
    "# 1. Write a Python program to print \"Hello, World!\"\n",
    "\n",
    "print(\"Hello, World!\")"
   ]
  },
  {
   "cell_type": "code",
   "execution_count": 30,
   "id": "4f09da9d-67c3-4813-8f62-a7f3b658aa7b",
   "metadata": {},
   "outputs": [
    {
     "name": "stdout",
     "output_type": "stream",
     "text": [
      "My name is Aabhash Yadav\n",
      "I am 20 years old\n"
     ]
    }
   ],
   "source": [
    "# 2.  Write a Python program that displays your name and age.\n",
    "\n",
    "name = \"Aabhash Yadav\"\n",
    "age = 20\n",
    "\n",
    "print(\"My name is\", name)\n",
    "print(\"I am\",age, \"years old\")"
   ]
  },
  {
   "cell_type": "code",
   "execution_count": 7,
   "id": "33e5c21b-7d95-4cf1-a9a2-d772e4a7696f",
   "metadata": {},
   "outputs": [
    {
     "name": "stdout",
     "output_type": "stream",
     "text": [
      "['False', 'None', 'True', 'and', 'as', 'assert', 'async', 'await', 'break', 'class', 'continue', 'def', 'del', 'elif', 'else', 'except', 'finally', 'for', 'from', 'global', 'if', 'import', 'in', 'is', 'lambda', 'nonlocal', 'not', 'or', 'pass', 'raise', 'return', 'try', 'while', 'with', 'yield']\n"
     ]
    }
   ],
   "source": [
    "# 3. Write code to print all the pre-defined keywords in Python using the keyword library.\n",
    "\n",
    "import keyword\n",
    "print(keyword.kwlist)"
   ]
  },
  {
   "cell_type": "code",
   "execution_count": 8,
   "id": "b40c3623-e516-4cac-8006-6f18cff5f807",
   "metadata": {},
   "outputs": [
    {
     "name": "stdout",
     "output_type": "stream",
     "text": [
      "It is not a Python keyword\n"
     ]
    }
   ],
   "source": [
    "# 4. Write a program that checks if a given word is a Python keyword.\n",
    "\n",
    "word = \"print\"\n",
    "if keyword.iskeyword(word):\n",
    "    print(\"It is a Python keyword\")\n",
    "else:\n",
    "    print(\"It is not a Python keyword\")"
   ]
  },
  {
   "cell_type": "code",
   "execution_count": 9,
   "id": "c6b5e3ea-97db-4261-9091-eb348da4c49d",
   "metadata": {},
   "outputs": [
    {
     "name": "stdout",
     "output_type": "stream",
     "text": [
      "modified list [10, 200, 30]\n"
     ]
    }
   ],
   "source": [
    "# 5. Create a list and tuple in Python, and demonstrate how attempting to change an element works differently for each. \n",
    "\n",
    "#1st creating a list\n",
    "my_list = [10, 20, 30]\n",
    "\n",
    "#changing the second element\n",
    "my_list[1] = 200\n",
    "\n",
    "#printing the modified lisst\n",
    "print(\"modified list\",my_list)\n"
   ]
  },
  {
   "cell_type": "code",
   "execution_count": 10,
   "id": "cc89bd3a-750b-46c0-bed4-845c2bf54ad5",
   "metadata": {},
   "outputs": [
    {
     "ename": "TypeError",
     "evalue": "'tuple' object does not support item assignment",
     "output_type": "error",
     "traceback": [
      "\u001b[1;31m---------------------------------------------------------------------------\u001b[0m",
      "\u001b[1;31mTypeError\u001b[0m                                 Traceback (most recent call last)",
      "Cell \u001b[1;32mIn[10], line 5\u001b[0m\n\u001b[0;32m      2\u001b[0m my_tuple \u001b[38;5;241m=\u001b[39m (\u001b[38;5;241m10\u001b[39m,\u001b[38;5;241m20\u001b[39m,\u001b[38;5;241m30\u001b[39m)\n\u001b[0;32m      4\u001b[0m \u001b[38;5;66;03m#trying to change the second element (this will cause an error)\u001b[39;00m\n\u001b[1;32m----> 5\u001b[0m my_tuple[\u001b[38;5;241m1\u001b[39m] \u001b[38;5;241m=\u001b[39m \u001b[38;5;241m200\u001b[39m\n\u001b[0;32m      6\u001b[0m \u001b[38;5;28mprint\u001b[39m(\u001b[38;5;124m\"\u001b[39m\u001b[38;5;124mmodified tuple\u001b[39m\u001b[38;5;124m\"\u001b[39m,my_tuple)\n",
      "\u001b[1;31mTypeError\u001b[0m: 'tuple' object does not support item assignment"
     ]
    }
   ],
   "source": [
    "#2nd creating a tuple\n",
    "my_tuple = (10,20,30)\n",
    "\n",
    "#trying to change the second element (this will cause an error)\n",
    "my_tuple[1] = 200\n",
    "print(\"modified tuple\",my_tuple)"
   ]
  },
  {
   "cell_type": "code",
   "execution_count": 4,
   "id": "c587947e-0f78-4684-9fdd-087498a14d9d",
   "metadata": {},
   "outputs": [
    {
     "name": "stdout",
     "output_type": "stream",
     "text": [
      "[1, 2, 3, 10, 5]\n"
     ]
    }
   ],
   "source": [
    "# 6. Write a function to demonstrate the behavior of mutable and immutable arguments.\n",
    "\n",
    "#1st mutable objects>> Objects whose values can be changed after creation. Examples: list, dict, set\n",
    "\n",
    "my_list = [1,2,3,4,5]\n",
    "my_list[3] = 10  #we get changed value of 4 as 10\n",
    "print(my_list)"
   ]
  },
  {
   "cell_type": "code",
   "execution_count": 3,
   "id": "e75a612d-8196-49e4-9f3e-f661fd8746f3",
   "metadata": {},
   "outputs": [
    {
     "ename": "TypeError",
     "evalue": "'str' object does not support item assignment",
     "output_type": "error",
     "traceback": [
      "\u001b[31m---------------------------------------------------------------------------\u001b[39m",
      "\u001b[31mTypeError\u001b[39m                                 Traceback (most recent call last)",
      "\u001b[36mCell\u001b[39m\u001b[36m \u001b[39m\u001b[32mIn[3]\u001b[39m\u001b[32m, line 5\u001b[39m\n\u001b[32m      3\u001b[39m website = \u001b[33m\"\u001b[39m\u001b[33mpwskill\u001b[39m\u001b[33m\"\u001b[39m\n\u001b[32m      4\u001b[39m \u001b[38;5;66;03m#trying to change 1st element\u001b[39;00m\n\u001b[32m----> \u001b[39m\u001b[32m5\u001b[39m \u001b[43mwebsite\u001b[49m\u001b[43m[\u001b[49m\u001b[32;43m0\u001b[39;49m\u001b[43m]\u001b[49m = \u001b[33m'\u001b[39m\u001b[33mj\u001b[39m\u001b[33m'\u001b[39m\n\u001b[32m      6\u001b[39m \u001b[38;5;28mprint\u001b[39m(website)\n",
      "\u001b[31mTypeError\u001b[39m: 'str' object does not support item assignment"
     ]
    }
   ],
   "source": [
    "#2nd immutable objects>>  Object whose state cannot be modified after it is created. Example:  int, float, bool, string\n",
    "\n",
    "website = \"pwskill\"\n",
    "#trying to change 1st element\n",
    "website[0] = 'j'\n",
    "print(website)"
   ]
  },
  {
   "cell_type": "code",
   "execution_count": 7,
   "id": "0e188ff0-adf6-4fcb-8ad7-0ac218279a43",
   "metadata": {},
   "outputs": [
    {
     "name": "stdin",
     "output_type": "stream",
     "text": [
      "enter first number: 20.5\n",
      "enter second number: 10.2\n"
     ]
    },
    {
     "name": "stdout",
     "output_type": "stream",
     "text": [
      "addition: 30.7\n",
      "subtraction: 10.3\n",
      "multiplication: 209.1\n"
     ]
    }
   ],
   "source": [
    "# 7. Write a program that performs basic arithmetic operations on two user-input numbers.\n",
    "\n",
    "#get input from usser\n",
    "num1 = float(input(\"enter first number:\"))\n",
    "num2 = float(input(\"enter second number:\"))\n",
    "print(\"addition:\", num1 + num2)\n",
    "print(\"subtraction:\", num1 - num2)\n",
    "print(\"multiplication:\", num1 * num2)"
   ]
  },
  {
   "cell_type": "code",
   "execution_count": 8,
   "id": "32ae0f1e-ed3c-4be6-9ff4-aaab1df8854e",
   "metadata": {},
   "outputs": [
    {
     "name": "stdin",
     "output_type": "stream",
     "text": [
      "enter first number(0 or 1): 1\n",
      "enter second number(0 or 1): 0\n"
     ]
    },
    {
     "name": "stdout",
     "output_type": "stream",
     "text": [
      "a AND b: False\n",
      "a OR b: True\n",
      "NOT a: False\n",
      "NOT b: True\n"
     ]
    }
   ],
   "source": [
    "# 8. Write a program to demonstrate the use of logical operators.\n",
    "a = int(input(\"enter first number(0 or 1):\"))\n",
    "b = int(input(\"enter second number(0 or 1):\"))\n",
    "\n",
    "#convert to bollean values\n",
    "a = bool(a)\n",
    "b = bool(b)\n",
    "\n",
    "#demonstrate logical operations\n",
    "print(\"a AND b:\", a and b)\n",
    "print(\"a OR b:\", a or b)\n",
    "print(\"NOT a:\", not a)\n",
    "print(\"NOT b:\", not b)"
   ]
  },
  {
   "cell_type": "code",
   "execution_count": 12,
   "id": "60fde982-1ec7-4b0d-a63f-fe38e9dd5df3",
   "metadata": {},
   "outputs": [
    {
     "name": "stdin",
     "output_type": "stream",
     "text": [
      "Enter something: 10\n"
     ]
    },
    {
     "name": "stdout",
     "output_type": "stream",
     "text": [
      "Integer value: 10\n",
      "Float value: 10.0\n",
      "Boolean value: True\n"
     ]
    }
   ],
   "source": [
    "# 9.  Write a Python program to convert user input from string to integer, float, and boolean types.\n",
    "\n",
    "user_input = input(\"Enter something:\")\n",
    "\n",
    "#convert to integer\n",
    "try:\n",
    "    int_value = int(user_input)\n",
    "    print(\"Integer value:\", int_value)\n",
    "except ValueError:\n",
    "    print(\"Cannot convert to integer\")\n",
    "\n",
    "#convert to float\n",
    "try:\n",
    "    float_value = float(user_input)\n",
    "    print(\"Float value:\", float_value)\n",
    "except ValueError:\n",
    "    print(\"Cannot convert to float\")\n",
    "\n",
    "#convert to boolean\n",
    "bool_value = bool(user_input) # empty string becomes false, anything else is true\n",
    "print(\"Boolean value:\", bool_value)"
   ]
  },
  {
   "cell_type": "code",
   "execution_count": 20,
   "id": "6118ad1f-fe0f-45d6-ba41-68495514a5f6",
   "metadata": {},
   "outputs": [
    {
     "name": "stdout",
     "output_type": "stream",
     "text": [
      "Integer List: [10, 20, 30]\n"
     ]
    }
   ],
   "source": [
    "# 10. Write code to demonstrate type casting with list elements.\n",
    "\n",
    "#original list with string elements\n",
    "string_value = ['10','20','30']\n",
    "\n",
    "#convert each string to integer using type casting\n",
    "int_list = [int(item)for item in string_value]\n",
    "print(\"Integer List:\", int_list)"
   ]
  },
  {
   "cell_type": "code",
   "execution_count": 21,
   "id": "075245d4-9a0d-4768-82ea-693ebfc8424d",
   "metadata": {},
   "outputs": [
    {
     "name": "stdin",
     "output_type": "stream",
     "text": [
      "Enter a number: 11\n"
     ]
    },
    {
     "name": "stdout",
     "output_type": "stream",
     "text": [
      "The number is positive.\n"
     ]
    }
   ],
   "source": [
    "# 11. Write a program that checks if a number is positive, negative, or zero.\n",
    "\n",
    "num = int(input(\"Enter a number:\"))\n",
    "\n",
    "if num > 0:\n",
    "    print(\"The number is positive.\")\n",
    "elif num < 0:\n",
    "     print(\"The number is negative.\")\n",
    "else:\n",
    "     print(\"The number is zero.\")"
   ]
  },
  {
   "cell_type": "code",
   "execution_count": 22,
   "id": "0be7606f-c09b-4814-ba7f-5dc18158456e",
   "metadata": {},
   "outputs": [
    {
     "name": "stdout",
     "output_type": "stream",
     "text": [
      "1 2 3 4 5 6 7 8 9 10 "
     ]
    }
   ],
   "source": [
    "# 12. Write a for loop to print numbers from 1 to 10.\n",
    "for i in range(1,11):\n",
    "    print(i, end=' ')"
   ]
  },
  {
   "cell_type": "code",
   "execution_count": 23,
   "id": "6a62079e-ae66-449b-a9a1-255c13c8a6c6",
   "metadata": {},
   "outputs": [
    {
     "name": "stdout",
     "output_type": "stream",
     "text": [
      "Sum of all even numbers from 1 to 50 is: 650\n"
     ]
    }
   ],
   "source": [
    "# 13. Write a Python program to find the sum of all even numbers between 1 and 50.\n",
    "sum_even = 0\n",
    "for i in range(1,51):\n",
    "    if i % 2 == 0:\n",
    "        sum_even += i\n",
    "\n",
    "print(\"Sum of all even numbers from 1 to 50 is:\", sum_even)"
   ]
  },
  {
   "cell_type": "code",
   "execution_count": 24,
   "id": "a033432f-1634-41b8-8c6b-f5ab7cb8a510",
   "metadata": {},
   "outputs": [
    {
     "name": "stdin",
     "output_type": "stream",
     "text": [
      "Enter a string: hello\n"
     ]
    },
    {
     "name": "stdout",
     "output_type": "stream",
     "text": [
      "Reversed string: olleh\n"
     ]
    }
   ],
   "source": [
    "# 14. Write a program to reverse a string using a while loop.\n",
    "\n",
    "text = input(\"Enter a string:\")\n",
    "reversed_text = \"\"\n",
    "i = len(text)-1\n",
    "while i>=0:\n",
    "    reversed_text = reversed_text + text[i]\n",
    "    i = i-1\n",
    "\n",
    "print(\"Reversed string:\", reversed_text)"
   ]
  },
  {
   "cell_type": "code",
   "execution_count": 25,
   "id": "0b8e48be-5c7a-48c2-836e-9be476384db5",
   "metadata": {},
   "outputs": [
    {
     "name": "stdin",
     "output_type": "stream",
     "text": [
      "enter a number: 5\n"
     ]
    },
    {
     "name": "stdout",
     "output_type": "stream",
     "text": [
      "Factorial of 5 is 120\n"
     ]
    }
   ],
   "source": [
    "# 15. Write a Python program to calculate the factorial of a number provided by the user using a while loop.\n",
    "\n",
    "num = int(input(\"enter a number:\"))\n",
    "fact = 1\n",
    "i = num\n",
    "while i>=1:\n",
    "    fact = fact * i\n",
    "    i = i - 1\n",
    "\n",
    "print(\"Factorial of\",num, \"is\", fact)"
   ]
  }
 ],
 "metadata": {
  "kernelspec": {
   "display_name": "Python 3 (ipykernel)",
   "language": "python",
   "name": "python3"
  },
  "language_info": {
   "codemirror_mode": {
    "name": "ipython",
    "version": 3
   },
   "file_extension": ".py",
   "mimetype": "text/x-python",
   "name": "python",
   "nbconvert_exporter": "python",
   "pygments_lexer": "ipython3",
   "version": "3.13.5"
  }
 },
 "nbformat": 4,
 "nbformat_minor": 5
}
